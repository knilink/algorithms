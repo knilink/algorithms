{
 "cells": [
  {
   "cell_type": "markdown",
   "metadata": {},
   "source": [
    "# Base4096cn\n",
    "\n",
    "Similar to base64, base4096cn is binary-to-text encoding schemes that represent binary data in an Chinese words string.\n"
   ]
  },
  {
   "cell_type": "markdown",
   "metadata": {},
   "source": [
    "### Get top 4096 most frequent Chinese words"
   ]
  },
  {
   "cell_type": "code",
   "execution_count": 142,
   "metadata": {},
   "outputs": [],
   "source": [
    "import urllib.request\n",
    "\n",
    "req = urllib.request.Request(\n",
    "    \"https://gist.githubusercontent.com/indiejoseph/eae09c673460aa0b56db/raw/ac66c1900b048e3c72a4388b2304893ca3b9a571/%E7%8E%B0%E4%BB%A3%E6%B1%89%E8%AF%AD%E5%B8%B8%E7%94%A8%E8%AF%8D%E8%A1%A8.txt\",\n",
    "    #headers={'Accept-encoding': 'gzip'}\n",
    ")\n",
    "with urllib.request.urlopen(req) as response:\n",
    "    wordtable=response.read().decode('utf8')\n",
    "    def parseLine(l):\n",
    "        try:\n",
    "            [w,py,frq] = l.split('\\t')\n",
    "            return [w,int(frq)]\n",
    "        except:\n",
    "            print('foo',l)\n",
    "            return None\n",
    "    \n",
    "    dic = {}\n",
    "    for l in wordtable.split('\\n'):\n",
    "        if not l:\n",
    "            continue\n",
    "        [w,py,id] = l.split('\\t')\n",
    "        dic[w]=[w,id]\n",
    "        \n",
    "    wordtable = list(dic.values())\n",
    "    wordtable.sort(key=lambda a:a[1])\n",
    "    #wordtable = [('\\n',),('，',),('。',)] + wordtable\n",
    "    wordtable = wordtable[:2**12]\n",
    "    wordtable = [a[0] for a in wordtable]\n"
   ]
  },
  {
   "cell_type": "markdown",
   "metadata": {},
   "source": [
    "### Convert bytes to base4096"
   ]
  },
  {
   "cell_type": "code",
   "execution_count": 170,
   "metadata": {},
   "outputs": [],
   "source": [
    "def b4096encode(b):\n",
    "    l=len(b)\n",
    "    c = []\n",
    "    for i in range(0,l,3):\n",
    "        c+=[\n",
    "            b[i]<<4 | (b[i+1]>>4 if i+1<l else 0),\n",
    "            ((0b1111 & b[i+1])<<8 | (b[i+2] if i+2<l else 0)) if (i+1<l) else -1\n",
    "        ]\n",
    "        if i+3 == l:\n",
    "            c+=[-1]\n",
    "    return c\n",
    "    \n",
    "def b4096decode(b):\n",
    "    l=len(b)\n",
    "    c=[]\n",
    "    for i in range(0,l,2):\n",
    "        if b[i]>=0:\n",
    "            c+=[b[i]>>4]\n",
    "        else:\n",
    "            return c\n",
    "        if b[i+1]>=0:\n",
    "            c+=[\n",
    "                (0b1111 & b[i]) << 4 | b[i+1] >> 8,\n",
    "            ]\n",
    "        else:\n",
    "            return c\n",
    "        if not i+2==l:\n",
    "            c+=[b[i+1]&0b11111111]    \n",
    "    return c\n"
   ]
  },
  {
   "cell_type": "markdown",
   "metadata": {},
   "source": [
    "### Conver to Chinese words"
   ]
  },
  {
   "cell_type": "code",
   "execution_count": 144,
   "metadata": {},
   "outputs": [],
   "source": [
    "def tochs(b):\n",
    "    s=''\n",
    "    for i in range(len(b)-1,-1,-1):\n",
    "        if b[i]<0:\n",
    "            s += '嘤'\n",
    "            continue\n",
    "        w = wordtable[b[i]]\n",
    "        ns = w+s\n",
    "        duplicated = [(w, a) for a in wordtable if ns.startswith(a)]\n",
    "        if len(duplicated)>1:\n",
    "            duplicated.sort(key=lambda a:-len(a[1]))\n",
    "            if len(duplicated[1][1])>=len(w):\n",
    "                print(duplicated)\n",
    "                s = w+','+s # add seperator to prevent matching multiple words\n",
    "                continue\n",
    "        s = ns\n",
    "    return s\n",
    "\n",
    "def fromchs(s):\n",
    "    b = []\n",
    "    while s:\n",
    "        maxlen = 0\n",
    "        index = -1\n",
    "        if s[0]==',':\n",
    "            s=s[1:]\n",
    "            continue\n",
    "        if s[0]=='嘤':\n",
    "            b+=[-1]\n",
    "            s=s[1:]\n",
    "            continue\n",
    "        for i in range(len(wordtable)):\n",
    "            w = wordtable[i]\n",
    "            if s.startswith(w):\n",
    "                l = len(w)\n",
    "                if l>maxlen:\n",
    "                    index = i\n",
    "                    maxlen = l\n",
    "        if index<0:\n",
    "            print(s)\n",
    "            raise Exception('not found')\n",
    "        b+=[index]\n",
    "        s=s[maxlen:]\n",
    "    return b\n"
   ]
  },
  {
   "cell_type": "code",
   "execution_count": 137,
   "metadata": {},
   "outputs": [],
   "source": [
    "def encode(raw):\n",
    "    return tochs(b4096encode(raw))\n",
    "                 \n",
    "def decode(encoded):\n",
    "    return bytes(b4096decode(fromchs(encoded)))"
   ]
  },
  {
   "cell_type": "code",
   "execution_count": 174,
   "metadata": {},
   "outputs": [
    {
     "data": {
      "text/plain": [
       "'明朗表明奇妙意料求学鸳鸯毫升回复世事许诺简要骨架探险大漠高梁囚犯政治协商会议幌子忧伤开行扣押四肢小汽车明智丘陵嘤'"
      ]
     },
     "execution_count": 174,
     "metadata": {},
     "output_type": "execute_result"
    }
   ],
   "source": [
    "encode('https://github.com/knilink/algorithms'.encode('utf8'))"
   ]
  },
  {
   "cell_type": "code",
   "execution_count": 175,
   "metadata": {},
   "outputs": [
    {
     "data": {
      "text/plain": [
       "'https://github.com/knilink/algorithms'"
      ]
     },
     "execution_count": 175,
     "metadata": {},
     "output_type": "execute_result"
    }
   ],
   "source": [
    "decode('明朗表明奇妙意料求学鸳鸯毫升回复世事许诺简要骨架探险大漠高梁囚犯政治协商会议幌子忧伤开行扣押四肢小汽车明智丘陵嘤').decode('utf8')"
   ]
  }
 ],
 "metadata": {
  "kernelspec": {
   "display_name": "Python 3",
   "language": "python",
   "name": "python3"
  },
  "language_info": {
   "codemirror_mode": {
    "name": "ipython",
    "version": 3
   },
   "file_extension": ".py",
   "mimetype": "text/x-python",
   "name": "python",
   "nbconvert_exporter": "python",
   "pygments_lexer": "ipython3",
   "version": "3.6.3"
  }
 },
 "nbformat": 4,
 "nbformat_minor": 2
}
