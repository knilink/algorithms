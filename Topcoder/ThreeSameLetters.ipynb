{
 "cells": [
  {
   "cell_type": "markdown",
   "metadata": {},
   "source": [
    "#  ThreeSameLetters"
   ]
  },
  {
   "cell_type": "markdown",
   "metadata": {},
   "source": [
    "The solution given by [2018 TCO Algorithm Round 1B Editorials](https://www.topcoder.com/blog/2018-tco-algorithm-round-1b-editorials/) is as follow"
   ]
  },
  {
   "cell_type": "code",
   "execution_count": 1,
   "metadata": {},
   "outputs": [],
   "source": [
    "def countStrings(L,S):\n",
    "    t = [1, S-1]                \n",
    "    for i in range(L):\n",
    "        t.append((t[-1] + t[-2]) * (S-1))\n",
    "    return S * sum(t[i]*t[L-3-i] for i in range(L-3+1)) % 1000000007"
   ]
  },
  {
   "cell_type": "markdown",
   "metadata": {},
   "source": [
    "Very concise, however, notice that the space complexity is $O(L)$, there is still room to optimise by pre-computing t[n] and reverse it by t[n-2]=inv(S)*t[n-1]-t[n], so its not necessary to store all of them."
   ]
  },
  {
   "cell_type": "code",
   "execution_count": 2,
   "metadata": {},
   "outputs": [],
   "source": [
    "def xgcd(b, a):\n",
    "    \"\"\"\n",
    "    Extended Euclidean algorithm.\n",
    "    \"\"\"\n",
    "    x0, x1, y0, y1 = 1, 0, 0, 1\n",
    "    while a != 0:\n",
    "        q, b, a = b // a, a, b % a\n",
    "        x0, x1 = x1, x0 - q * x1\n",
    "        y0, y1 = y1, y0 - q * y1\n",
    "    return  b, x0, y0\n",
    "\n",
    "def count_strings(L,S):\n",
    "    tt2 = t2=1\n",
    "    tt1 = t1=S-1\n",
    "    sum = 0\n",
    "    M = 1000000007\n",
    "    for i in range(L-2):\n",
    "        t0 = (t1+t2)*(S-1)\n",
    "        t1,t2 = t0,t1\n",
    "    _,invS1,_ = xgcd((S-1),M)\n",
    "    for i in range(L-2):\n",
    "        t3 = invS1*t1 - t2\n",
    "        tt0 = (tt1+tt2)*(S-1)       \n",
    "        sum+=(t3*tt2) % M\n",
    "        t2,t1 = t3,t2\n",
    "        tt1,tt2 = tt0,tt1\n",
    "    return sum * S % M"
   ]
  },
  {
   "cell_type": "markdown",
   "metadata": {},
   "source": [
    "So far the time/space complexity are down to $O(L)$/$O(1)$.\n",
    "\n",
    "Following content is to push the algorithm to extreme by cutting down more then 50% time complexity and also for myself to review old and explore new knowledges."
   ]
  },
  {
   "cell_type": "markdown",
   "metadata": {},
   "source": [
    "# Check List\n",
    "\n",
    "[Diagonalizable matrix](https://en.wikipedia.org/wiki/Diagonalizable_matrix)\n",
    "\n",
    "[Z-transform](https://en.wikipedia.org/wiki/Z-transform)\n",
    "\n",
    "[Modular multiplicative inverse](https://en.wikipedia.org/wiki/Modular_multiplicative_inverse) \n",
    "\n",
    "[Extended Euclidean algorithm](https://en.wikipedia.org/wiki/Extended_Euclidean_algorithm)"
   ]
  },
  {
   "cell_type": "markdown",
   "metadata": {},
   "source": [
    "# Zero block string\n",
    "\n",
    "An one-block string can be represented as the combination of two zero-block starts with 2 same letters\n",
    "Let $a$ as the number of different strings start with 2 same letters, $b$ as the number of different strings start with 2 different letters, $S+1$ represent the number of characters.\n",
    "Then the recursion would be:\n",
    "\n",
    "$$\n",
    "\\left\\{\n",
    "\\begin{aligned}\n",
    "a_n & =b_{n-1} \\\\\n",
    "b_n & =S(a_{n-1}+b_{n-1}) \\\\\n",
    "a_1 & = 0 \\\\\n",
    "b_1 & = S + 1\n",
    "\\end{aligned}\n",
    "\\right.\n",
    "$$"
   ]
  },
  {
   "cell_type": "code",
   "execution_count": 3,
   "metadata": {},
   "outputs": [
    {
     "data": {
      "text/plain": [
       "[(1050, 6150), (1050, 6150)]"
      ]
     },
     "execution_count": 3,
     "metadata": {},
     "output_type": "execute_result"
    }
   ],
   "source": [
    "def enum_zero_block_strings(N,S):\n",
    "    if N is 0:\n",
    "        return []\n",
    "    if N is 1:\n",
    "        return range(0,S)\n",
    "    if N is 2:\n",
    "        return [ [i,j] for i in range(0,S+1) for j in range(0,S+1)]\n",
    "    l = enum_zero_block_strings(N-1,S)\n",
    "    return [\n",
    "        [i] + x for x in l for i in range(0,S+1) if not (i==x[0] and x[0]==x[1])\n",
    "    ]\n",
    "\n",
    "def count_zero_block_strings(N,S):\n",
    "    state = (0,S+1)\n",
    "    while(N-1):\n",
    "        next_state = (\n",
    "            state[1],\n",
    "            S*(state[0]+state[1])\n",
    "        )\n",
    "        state = next_state\n",
    "        N-=1\n",
    "    return state\n",
    "\n",
    "\n",
    "N, S = 5, 5\n",
    "sub_strings = enum_zero_block_strings(N,S)\n",
    "[\n",
    "    (\n",
    "        len([x for x in sub_strings if len(x)>1 and x[0]==x[1]]),\n",
    "        len([x for x in sub_strings if len(x)<=1 or x[0]!=x[1]]),\n",
    "    ),\n",
    "    count_zero_block_strings(N,S),\n",
    "]\n"
   ]
  },
  {
   "cell_type": "markdown",
   "metadata": {},
   "source": [
    "The number sequence can be represented as the following linear discrete system:\n",
    "$$\n",
    "\\begin{bmatrix}\n",
    "a_n \\\\\n",
    "b_n\n",
    "\\end{bmatrix}\n",
    "=\n",
    "\\begin{bmatrix}\n",
    "0 & 1 \\\\\n",
    "S & S\n",
    "\\end{bmatrix}\n",
    "\\begin{bmatrix}\n",
    "a_{n-1} \\\\\n",
    "b_{n-1}\n",
    "\\end{bmatrix}\n",
    "$$\n",
    "\n",
    "Diagonalize the transform matrix using sympy library to reduce manual works\n"
   ]
  },
  {
   "cell_type": "code",
   "execution_count": 4,
   "metadata": {},
   "outputs": [
    {
     "data": {
      "text/latex": [
       "$$\\left ( \\left[\\begin{matrix}\\frac{2}{S - \\sqrt{S \\left(S + 4\\right)}} & \\frac{2}{S + \\sqrt{S \\left(S + 4\\right)}}\\\\1 & 1\\end{matrix}\\right], \\quad \\left[\\begin{matrix}\\frac{S}{2} - \\frac{1}{2} \\sqrt{S \\left(S + 4\\right)} & 0\\\\0 & \\frac{S}{2} + \\frac{1}{2} \\sqrt{S \\left(S + 4\\right)}\\end{matrix}\\right]\\right )$$"
      ],
      "text/plain": [
       "⎛                                        ⎡      ___________                   \n",
       "⎜⎡        2                  2        ⎤  ⎢S   ╲╱ S⋅(S + 4)                    \n",
       "⎜⎢─────────────────  ─────────────────⎥, ⎢─ - ─────────────          0        \n",
       "⎜⎢      ___________        ___________⎥  ⎢2         2                         \n",
       "⎜⎢S - ╲╱ S⋅(S + 4)   S + ╲╱ S⋅(S + 4) ⎥  ⎢                                    \n",
       "⎜⎢                                    ⎥  ⎢                         ___________\n",
       "⎜⎣        1                  1        ⎦  ⎢                   S   ╲╱ S⋅(S + 4) \n",
       "⎜                                        ⎢        0          ─ + ─────────────\n",
       "⎝                                        ⎣                   2         2      \n",
       "\n",
       "⎤⎞\n",
       "⎥⎟\n",
       "⎥⎟\n",
       "⎥⎟\n",
       "⎥⎟\n",
       "⎥⎟\n",
       "⎥⎟\n",
       "⎥⎟\n",
       "⎦⎠"
      ]
     },
     "execution_count": 4,
     "metadata": {},
     "output_type": "execute_result"
    }
   ],
   "source": [
    "import sympy as sp\n",
    "sp.init_printing(use_latex='mathjax')\n",
    "sS = sp.Symbol('S')\n",
    "A = sp.Matrix([\n",
    "    [0,1],\n",
    "    [sS,sS]\n",
    "])\n",
    "P,D = A.diagonalize()\n",
    "P,D\n",
    "#sp.N(D.subs(sS,S))"
   ]
  },
  {
   "cell_type": "code",
   "execution_count": 5,
   "metadata": {},
   "outputs": [
    {
     "data": {
      "text/latex": [
       "$$\\left[\\begin{matrix}\\frac{S}{2} - \\frac{1}{2} \\sqrt{S \\left(S + 4\\right)} - \\frac{1}{\\sqrt{S \\left(S + 4\\right)}} \\left(- \\frac{S}{2} + \\frac{1}{2} \\sqrt{S \\left(S + 4\\right)}\\right) \\left(\\frac{S}{2} - \\frac{1}{2} \\sqrt{S \\left(S + 4\\right)}\\right) & - \\frac{\\frac{S}{2} - \\frac{1}{2} \\sqrt{S \\left(S + 4\\right)}}{\\sqrt{S \\left(S + 4\\right)}}\\\\\\frac{1}{2 \\sqrt{S \\left(S + 4\\right)}} \\left(- \\frac{S}{2} + \\frac{1}{2} \\sqrt{S \\left(S + 4\\right)}\\right) \\left(S + \\sqrt{S \\left(S + 4\\right)}\\right) & \\frac{S + \\sqrt{S \\left(S + 4\\right)}}{2 \\sqrt{S \\left(S + 4\\right)}}\\end{matrix}\\right]$$"
      ],
      "text/plain": [
       "⎡                    ⎛        ___________⎞ ⎛      ___________⎞   ⎛      ______\n",
       "⎢                    ⎜  S   ╲╱ S⋅(S + 4) ⎟ ⎜S   ╲╱ S⋅(S + 4) ⎟   ⎜S   ╲╱ S⋅(S \n",
       "⎢      ___________   ⎜- ─ + ─────────────⎟⋅⎜─ - ─────────────⎟  -⎜─ - ────────\n",
       "⎢S   ╲╱ S⋅(S + 4)    ⎝  2         2      ⎠ ⎝2         2      ⎠   ⎝2         2 \n",
       "⎢─ - ───────────── - ─────────────────────────────────────────  ──────────────\n",
       "⎢2         2                         ___________                      ________\n",
       "⎢                                  ╲╱ S⋅(S + 4)                     ╲╱ S⋅(S + \n",
       "⎢                                                                             \n",
       "⎢          ⎛        ___________⎞                                              \n",
       "⎢          ⎜  S   ╲╱ S⋅(S + 4) ⎟ ⎛      ___________⎞                          \n",
       "⎢          ⎜- ─ + ─────────────⎟⋅⎝S + ╲╱ S⋅(S + 4) ⎠                    ______\n",
       "⎢          ⎝  2         2      ⎠                                  S + ╲╱ S⋅(S \n",
       "⎢          ─────────────────────────────────────────              ────────────\n",
       "⎢                           ___________                                _______\n",
       "⎣                       2⋅╲╱ S⋅(S + 4)                             2⋅╲╱ S⋅(S +\n",
       "\n",
       "_____⎞ ⎤\n",
       "+ 4) ⎟ ⎥\n",
       "─────⎟ ⎥\n",
       "     ⎠ ⎥\n",
       "───────⎥\n",
       "___    ⎥\n",
       "4)     ⎥\n",
       "       ⎥\n",
       "       ⎥\n",
       "       ⎥\n",
       "_____  ⎥\n",
       "+ 4)   ⎥\n",
       "─────  ⎥\n",
       "____   ⎥\n",
       " 4)    ⎦"
      ]
     },
     "execution_count": 5,
     "metadata": {},
     "output_type": "execute_result"
    }
   ],
   "source": [
    "P.inv()"
   ]
  },
  {
   "cell_type": "markdown",
   "metadata": {},
   "source": [
    "Let $W=\\sqrt{S(S+4)}$.\n",
    "Then the general solution would be:\n",
    "\n",
    "$$\n",
    "\\begin{aligned}\n",
    "\\begin{bmatrix}\n",
    "a_n \\\\\n",
    "b_n\n",
    "\\end{bmatrix}\n",
    "& =\n",
    "PDP^{-1}\n",
    "\\begin{bmatrix}\n",
    "a_{n-1} \\\\\n",
    "b_{n-1}\n",
    "\\end{bmatrix} \\\\\n",
    "& =\n",
    "PD^{n-1}P^{-1}\n",
    "\\begin{bmatrix}\n",
    "a_0 \\\\\n",
    "b_0\n",
    "\\end{bmatrix} \\\\\n",
    "& =\n",
    "\\begin{bmatrix}\n",
    "\\frac{1}{2}(S-W)+\\frac{1}{4W}(S-W)^2 & -\\frac{S-W}{2W} \\\\\n",
    "-\\frac{S^2-W^2}{4W} & \\frac{S+W}{2W}\n",
    "\\end{bmatrix}\n",
    "\\begin{bmatrix}\n",
    "\\frac{1}{2^{n-1}}(S-W)^{n-1} & 0 \\\\\n",
    "0 & \\frac{1}{2^{n-1}}(S+W)^{n-1}\n",
    "\\end{bmatrix}\n",
    "\\begin{bmatrix}\n",
    "\\frac{2}{S-W} & \\frac{2}{S+W} \\\\\n",
    "1 & 1 \n",
    "\\end{bmatrix}\n",
    "\\begin{bmatrix}\n",
    "0 \\\\\n",
    "S+1\n",
    "\\end{bmatrix} \\\\\n",
    "& =\n",
    "\\begin{bmatrix}\n",
    "2((S+\\sqrt{S(S+4)})^{n-1}-(S-\\sqrt{S(S+4)})^{n-1}) \\\\\n",
    "(S+\\sqrt{S(S+4)})^n-(S-\\sqrt{S(S+4)})^n\n",
    "\\end{bmatrix}\n",
    "\\frac{S+1}{2^n\\sqrt{S(S+4)}}\n",
    "\\end{aligned}\n",
    "$$"
   ]
  },
  {
   "cell_type": "code",
   "execution_count": 6,
   "metadata": {},
   "outputs": [
    {
     "data": {
      "text/latex": [
       "$$\\left ( 5, \\quad \\left ( 1050.0000000000002, \\quad 6150.000000000001\\right )\\right )$$"
      ],
      "text/plain": [
       "(5, (1050.0000000000002, 6150.000000000001))"
      ]
     },
     "execution_count": 6,
     "metadata": {},
     "output_type": "execute_result"
    }
   ],
   "source": [
    "def count_zero_block_strings(N,S):\n",
    "    W = (S*(S+4))**0.5\n",
    "    k = (S+1)/2**N/W\n",
    "    return (\n",
    "        ((S+W)**(N-1)-(S-W)**(N-1))*2 * k,\n",
    "        ((S+W)**N-(S-W)**N) * k\n",
    "    )\n",
    "\n",
    "S, count_zero_block_strings(N,S)"
   ]
  },
  {
   "cell_type": "markdown",
   "metadata": {},
   "source": [
    "An one-block string can be presented as the combination of two sub-string start with 2 same characters and have same start characters. Let $c_L$ represent the count of L lenght on-block strings. Let $\\alpha=S+W, \\beta=S-W$\n",
    "\n",
    "$$\n",
    "\\begin{aligned}\n",
    "c_L\n",
    "& =\\frac{1}{S+1}\\sum_{n=2}^{L-1}{a_n a_{L+1-n}} \\\\\n",
    "& =\\frac{S+1}{2^{L-1}W^2}\\left[(L-2)(\\alpha^{L-1}+\\beta^{L-1})-\\beta^{L-1}\\sum_{n=2}^{L-1}{\\left(\\frac{\\alpha}{\\beta}\\right)^{n-1}}-\\alpha^{L-1}\\sum_{n=2}^{L-1}{\\left(\\frac{\\beta}{\\alpha}\\right)^{n-1}}\\right] \\\\\n",
    "& =\\frac{S+1}{2^{L-1}W^2}\\left[(L-2)(\\alpha^{L-1}+\\beta^{L-1})-2\\frac{\\alpha^{L-1}\\beta-\\beta^{L-1}\\alpha}{\\alpha-\\beta}\\right] \\\\\n",
    "& =\\frac{S+1}{2^{L-1}W^2}\\left[(L-2)(\\alpha^{L-1}+\\beta^{L-1})+\\frac{4S}{W}(\\alpha^{L-2}-\\beta^{L-2})\\right] \\\\\n",
    "& =\\frac{S+1}{2W^2}\\left[\\left((L-2)\\alpha+\\frac{4S}{W}\\right)\\left(\\frac{\\alpha}{2}\\right)^{L-2}+\\left((L-2)\\beta-\\frac{4S}{W}\\right)\\left(\\frac{\\beta}{2}\\right)^{L-2}\\right]\n",
    "\\end{aligned}\n",
    "$$\n"
   ]
  },
  {
   "cell_type": "markdown",
   "metadata": {},
   "source": [
    "Although the result of $c_L$ is integer. However the floating operation is not acceptable especially for large numbers. Next is trying to turn it into pure integer operations. Apply [z-transform](https://en.wikipedia.org/wiki/Z-transform) then\n",
    "$$\n",
    "\\begin{aligned}\n",
    "C_L(z)\n",
    "& =\n",
    "\\frac{S+1}{2W^2}\\left[\n",
    "\\left((L-2)\\alpha+\\frac{4S}{W}\\right)\\frac{1}{1-\\frac{\\alpha}{2} z^-1}\n",
    "+\n",
    "\\left((L-2)\\beta-\\frac{4S}{W}\\right)\\frac{1}{1-\\frac{\\beta}{2} z^-1}\n",
    "\\right] \\\\\n",
    "& =\n",
    "\\frac{S+1}{2W^2}\n",
    "\\frac{(L-2)(\\alpha+\\beta)-(L-2)\\alpha\\beta z^{-1}+\\frac{2S}{W}(\\alpha-\\beta)z^{-1}}{1-\\frac{1}{2}(\\alpha+\\beta)z^{-1}+\\frac{1}{4}\\alpha\\beta z^{-2}}  \\\\\n",
    "& =\n",
    "\\frac{S+1}{S+4}\n",
    "\\frac{(L-2)+2(L-1)z^{-1}}{1 - S z^{-1} - S z^{-2}}\n",
    "\\end{aligned}\n",
    "$$\n",
    "Then,\n",
    "$$\n",
    "C_L(z)-S\\left(C_L(z)+\\frac{s+1}{S(S+4)}(L-1)z\\right)z^{-1}-S\\left(C_L(z)+\\frac{S+1}{S(S+4)}(-L)z^2+\\frac{S+1}{S(S+4)}(L-1)z\\right)z^{-2}=0\n",
    "$$\n",
    "Then reverse z-transform\n",
    "$$\n",
    "\\left\\{\n",
    "\\begin{aligned}\n",
    "c_L(n) & = S(c_L(n-1)+c_L(n-2)) \\\\\n",
    "c_L(-2) & = \\frac{S+1}{S(S+4)}(-L) \\\\\n",
    "c_L(-1) & = \\frac{S+1}{S(S+4)}(L-1) \\\\\n",
    "c_L & = c_L(L-2)\n",
    "\\end{aligned}\n",
    "\\right.\n",
    "$$\n",
    "Remember that the number of different characters is represented as $S+1$"
   ]
  },
  {
   "cell_type": "code",
   "execution_count": 7,
   "metadata": {},
   "outputs": [
    {
     "data": {
      "text/latex": [
       "$$510$$"
      ],
      "text/plain": [
       "510"
      ]
     },
     "execution_count": 7,
     "metadata": {},
     "output_type": "execute_result"
    }
   ],
   "source": [
    "L = 5\n",
    "def count_strings(L,S):\n",
    "    if(L<3):\n",
    "        return 0\n",
    "    S=S-1\n",
    "    k = (S+1)\n",
    "    c2 = -L * (S+1)\n",
    "    c1 = 2*(L-1) * (S+1) \n",
    "    while L>1:\n",
    "        c0 = S * (c1+c2)\n",
    "        c1,c2 = c0,c1\n",
    "        L-=1\n",
    "    return c1//S//(S+4)\n",
    "\n",
    "count_strings(L,S+1)"
   ]
  },
  {
   "cell_type": "markdown",
   "metadata": {},
   "source": [
    "\n",
    "Maldular \n",
    "$$\n",
    "\\left\\{\n",
    "\\begin{aligned}\n",
    "c_L(n) & = S(c_L(n-1)+c_L(n-2)) & \\pmod{M}\\\\\n",
    "c_L(-2) & = -L(S+1)\\left(S(S+4)\\right)^{-1} & \\pmod{M} \\\\\n",
    "c_L(-1) & = (L-1)(S+1)\\left(S(S+4)\\right)^{-1} & \\pmod{M}\\\\\n",
    "c_L & = c_L(L-2)\n",
    "\\end{aligned}\n",
    "\\right.\n",
    "$$\n",
    "where $\\left(S(S+4)\\right)^{-1}$ is [modular multiplicative inverse](https://en.wikipedia.org/wiki/Modular_multiplicative_inverse) get by [Extended Euclidean algorithm](https://en.wikipedia.org/wiki/Extended_Euclidean_algorithm). "
   ]
  },
  {
   "cell_type": "markdown",
   "metadata": {},
   "source": [
    "# Final solution\n",
    "Remember that the number of characters in the abover formulars is $S+1$."
   ]
  },
  {
   "cell_type": "code",
   "execution_count": 8,
   "metadata": {},
   "outputs": [
    {
     "data": {
      "text/latex": [
       "$$\\left ( 5, \\quad 6, \\quad 510\\right )$$"
      ],
      "text/plain": [
       "(5, 6, 510)"
      ]
     },
     "execution_count": 8,
     "metadata": {},
     "output_type": "execute_result"
    }
   ],
   "source": [
    "M = 10**9+7\n",
    "SS = S + 1 # to avoid confusing, let SS represent the the number of characters\n",
    "L = 5\n",
    "def count_strings(L,SS):\n",
    "    if(L<3):\n",
    "        return 0\n",
    "    S=SS-1\n",
    "    _,k,_ = xgcd(S*(S+4),M)\n",
    "    k = (S+1) * k % M\n",
    "    c2 = -L * k % M\n",
    "    c1 = 2*(L-1) * k % M\n",
    "    while L>1:\n",
    "        c0 = S * (c1+c2) % M\n",
    "        c1,c2 = c0,c1\n",
    "        L-=1\n",
    "    return c1 % M\n",
    "    \n",
    "L, SS, count_strings(L,SS)"
   ]
  },
  {
   "cell_type": "markdown",
   "metadata": {},
   "source": [
    "Run test cases"
   ]
  },
  {
   "cell_type": "code",
   "execution_count": 9,
   "metadata": {},
   "outputs": [
    {
     "data": {
      "text/latex": [
       "$$\\left [ \\left ( 7, \\quad 7\\right ), \\quad \\left ( 4, \\quad 4\\right ), \\quad \\left ( 0, \\quad 0\\right ), \\quad \\left ( 410199993, \\quad 410199993\\right )\\right ]$$"
      ],
      "text/plain": [
       "[(7, 7), (4, 4), (0, 0), (410199993, 410199993)]"
      ]
     },
     "execution_count": 9,
     "metadata": {},
     "output_type": "execute_result"
    }
   ],
   "source": [
    "tc=[\n",
    "    ((3, 7), 7),\n",
    "    ((4, 2), 4),\n",
    "    ((2, 17), 0),\n",
    "    ((10, 11), 410199993)\n",
    "]\n",
    "[(countStrings(*args), ret) for args, ret in tc]"
   ]
  }
 ],
 "metadata": {
  "kernelspec": {
   "display_name": "Python 3",
   "language": "python",
   "name": "python3"
  },
  "language_info": {
   "codemirror_mode": {
    "name": "ipython",
    "version": 3
   },
   "file_extension": ".py",
   "mimetype": "text/x-python",
   "name": "python",
   "nbconvert_exporter": "python",
   "pygments_lexer": "ipython3",
   "version": "3.6.3"
  }
 },
 "nbformat": 4,
 "nbformat_minor": 2
}
